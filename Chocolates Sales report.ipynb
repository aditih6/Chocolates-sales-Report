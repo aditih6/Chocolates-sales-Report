{
 "cells": [
  {
   "cell_type": "code",
   "execution_count": 3,
   "id": "868aece6-f776-403b-9ff5-0e5c99790c9d",
   "metadata": {},
   "outputs": [],
   "source": [
    "import pandas as pd "
   ]
  },
  {
   "cell_type": "code",
   "execution_count": 7,
   "id": "a4fff748-a579-4017-8d79-9ae96f49cdc0",
   "metadata": {},
   "outputs": [],
   "source": [
    "# Load thwe dataset \n",
    "df = pd.read_csv('sample-chocolate-sales-data.csv', delimiter = ',')"
   ]
  },
  {
   "cell_type": "code",
   "execution_count": 9,
   "id": "d26662eb-20f2-4882-9ceb-f6bee81ce6e3",
   "metadata": {},
   "outputs": [
    {
     "name": "stdout",
     "output_type": "stream",
     "text": [
      "<class 'pandas.core.frame.DataFrame'>\n",
      "RangeIndex: 4998 entries, 0 to 4997\n",
      "Data columns (total 7 columns):\n",
      " #   Column        Non-Null Count  Dtype  \n",
      "---  ------        --------------  -----  \n",
      " 0   Sales Person  4998 non-null   object \n",
      " 1   Product       4998 non-null   object \n",
      " 2   Country       4998 non-null   object \n",
      " 3   Date          4998 non-null   object \n",
      " 4   Amount        4998 non-null   float64\n",
      " 5   Boxes         4998 non-null   int64  \n",
      " 6   Order Status  4998 non-null   object \n",
      "dtypes: float64(1), int64(1), object(5)\n",
      "memory usage: 273.5+ KB\n"
     ]
    }
   ],
   "source": [
    "# summary of a DataFrame\n",
    "df.info()"
   ]
  },
  {
   "cell_type": "code",
   "execution_count": 11,
   "id": "f8e9805a-d85e-4d0c-bcc4-a2a1ffb62fe9",
   "metadata": {},
   "outputs": [
    {
     "data": {
      "text/html": [
       "<div>\n",
       "<style scoped>\n",
       "    .dataframe tbody tr th:only-of-type {\n",
       "        vertical-align: middle;\n",
       "    }\n",
       "\n",
       "    .dataframe tbody tr th {\n",
       "        vertical-align: top;\n",
       "    }\n",
       "\n",
       "    .dataframe thead th {\n",
       "        text-align: right;\n",
       "    }\n",
       "</style>\n",
       "<table border=\"1\" class=\"dataframe\">\n",
       "  <thead>\n",
       "    <tr style=\"text-align: right;\">\n",
       "      <th></th>\n",
       "      <th>Amount</th>\n",
       "      <th>Boxes</th>\n",
       "    </tr>\n",
       "  </thead>\n",
       "  <tbody>\n",
       "    <tr>\n",
       "      <th>count</th>\n",
       "      <td>4998.000000</td>\n",
       "      <td>4998.000000</td>\n",
       "    </tr>\n",
       "    <tr>\n",
       "      <th>mean</th>\n",
       "      <td>5600.411615</td>\n",
       "      <td>397.949580</td>\n",
       "    </tr>\n",
       "    <tr>\n",
       "      <th>std</th>\n",
       "      <td>3780.856987</td>\n",
       "      <td>363.396528</td>\n",
       "    </tr>\n",
       "    <tr>\n",
       "      <th>min</th>\n",
       "      <td>2.250000</td>\n",
       "      <td>1.000000</td>\n",
       "    </tr>\n",
       "    <tr>\n",
       "      <th>25%</th>\n",
       "      <td>2756.812500</td>\n",
       "      <td>168.000000</td>\n",
       "    </tr>\n",
       "    <tr>\n",
       "      <th>50%</th>\n",
       "      <td>5167.125000</td>\n",
       "      <td>315.000000</td>\n",
       "    </tr>\n",
       "    <tr>\n",
       "      <th>75%</th>\n",
       "      <td>7637.625000</td>\n",
       "      <td>513.000000</td>\n",
       "    </tr>\n",
       "    <tr>\n",
       "      <th>max</th>\n",
       "      <td>24108.750000</td>\n",
       "      <td>3385.000000</td>\n",
       "    </tr>\n",
       "  </tbody>\n",
       "</table>\n",
       "</div>"
      ],
      "text/plain": [
       "             Amount        Boxes\n",
       "count   4998.000000  4998.000000\n",
       "mean    5600.411615   397.949580\n",
       "std     3780.856987   363.396528\n",
       "min        2.250000     1.000000\n",
       "25%     2756.812500   168.000000\n",
       "50%     5167.125000   315.000000\n",
       "75%     7637.625000   513.000000\n",
       "max    24108.750000  3385.000000"
      ]
     },
     "execution_count": 11,
     "metadata": {},
     "output_type": "execute_result"
    }
   ],
   "source": [
    "# summary statistics of your DataFrame\n",
    "df.describe()"
   ]
  },
  {
   "cell_type": "code",
   "execution_count": 13,
   "id": "5730630b-495e-45c0-b4a3-45568e3b7484",
   "metadata": {},
   "outputs": [
    {
     "data": {
      "text/html": [
       "<div>\n",
       "<style scoped>\n",
       "    .dataframe tbody tr th:only-of-type {\n",
       "        vertical-align: middle;\n",
       "    }\n",
       "\n",
       "    .dataframe tbody tr th {\n",
       "        vertical-align: top;\n",
       "    }\n",
       "\n",
       "    .dataframe thead th {\n",
       "        text-align: right;\n",
       "    }\n",
       "</style>\n",
       "<table border=\"1\" class=\"dataframe\">\n",
       "  <thead>\n",
       "    <tr style=\"text-align: right;\">\n",
       "      <th></th>\n",
       "      <th>Sales Person</th>\n",
       "      <th>Product</th>\n",
       "      <th>Country</th>\n",
       "      <th>Date</th>\n",
       "      <th>Amount</th>\n",
       "      <th>Boxes</th>\n",
       "      <th>Order Status</th>\n",
       "    </tr>\n",
       "  </thead>\n",
       "  <tbody>\n",
       "    <tr>\n",
       "      <th>0</th>\n",
       "      <td>Jehu Rudeforth</td>\n",
       "      <td>White Choc</td>\n",
       "      <td>USA</td>\n",
       "      <td>02-Jan-23</td>\n",
       "      <td>5879.25</td>\n",
       "      <td>236</td>\n",
       "      <td>Delivered</td>\n",
       "    </tr>\n",
       "    <tr>\n",
       "      <th>1</th>\n",
       "      <td>Roddy Speechley</td>\n",
       "      <td>Choco Coated Almonds</td>\n",
       "      <td>UK</td>\n",
       "      <td>02-Jan-23</td>\n",
       "      <td>2110.50</td>\n",
       "      <td>141</td>\n",
       "      <td>Delivered</td>\n",
       "    </tr>\n",
       "    <tr>\n",
       "      <th>2</th>\n",
       "      <td>Oby Sorrel</td>\n",
       "      <td>Raspberry Choco</td>\n",
       "      <td>UK</td>\n",
       "      <td>02-Jan-23</td>\n",
       "      <td>9058.50</td>\n",
       "      <td>906</td>\n",
       "      <td>Cancelled</td>\n",
       "    </tr>\n",
       "    <tr>\n",
       "      <th>3</th>\n",
       "      <td>Camilla Castle</td>\n",
       "      <td>50% Dark Bites</td>\n",
       "      <td>USA</td>\n",
       "      <td>02-Jan-23</td>\n",
       "      <td>1228.50</td>\n",
       "      <td>73</td>\n",
       "      <td>Delivered</td>\n",
       "    </tr>\n",
       "    <tr>\n",
       "      <th>4</th>\n",
       "      <td>Madelene Upcott</td>\n",
       "      <td>Baker's Choco Chips</td>\n",
       "      <td>Canada</td>\n",
       "      <td>02-Jan-23</td>\n",
       "      <td>5451.75</td>\n",
       "      <td>321</td>\n",
       "      <td>Delivered</td>\n",
       "    </tr>\n",
       "  </tbody>\n",
       "</table>\n",
       "</div>"
      ],
      "text/plain": [
       "      Sales Person               Product Country       Date   Amount  Boxes  \\\n",
       "0   Jehu Rudeforth            White Choc     USA  02-Jan-23  5879.25    236   \n",
       "1  Roddy Speechley  Choco Coated Almonds      UK  02-Jan-23  2110.50    141   \n",
       "2       Oby Sorrel       Raspberry Choco      UK  02-Jan-23  9058.50    906   \n",
       "3   Camilla Castle        50% Dark Bites     USA  02-Jan-23  1228.50     73   \n",
       "4  Madelene Upcott   Baker's Choco Chips  Canada  02-Jan-23  5451.75    321   \n",
       "\n",
       "  Order Status  \n",
       "0    Delivered  \n",
       "1    Delivered  \n",
       "2    Cancelled  \n",
       "3    Delivered  \n",
       "4    Delivered  "
      ]
     },
     "execution_count": 13,
     "metadata": {},
     "output_type": "execute_result"
    }
   ],
   "source": [
    "# First five rows of the Dataframe\n",
    "df.head()"
   ]
  },
  {
   "cell_type": "code",
   "execution_count": 15,
   "id": "be82a45b-8783-4586-bf01-164dca083b62",
   "metadata": {},
   "outputs": [
    {
     "data": {
      "text/plain": [
       "Sales Person    0\n",
       "Product         0\n",
       "Country         0\n",
       "Date            0\n",
       "Amount          0\n",
       "Boxes           0\n",
       "Order Status    0\n",
       "dtype: int64"
      ]
     },
     "execution_count": 15,
     "metadata": {},
     "output_type": "execute_result"
    }
   ],
   "source": [
    "# Checking if there is any Null values \n",
    "df.isnull().sum()"
   ]
  },
  {
   "cell_type": "code",
   "execution_count": null,
   "id": "46efd372-c09a-4125-ac75-a179b246c18c",
   "metadata": {},
   "outputs": [],
   "source": []
  }
 ],
 "metadata": {
  "kernelspec": {
   "display_name": "Python [conda env:base] *",
   "language": "python",
   "name": "conda-base-py"
  },
  "language_info": {
   "codemirror_mode": {
    "name": "ipython",
    "version": 3
   },
   "file_extension": ".py",
   "mimetype": "text/x-python",
   "name": "python",
   "nbconvert_exporter": "python",
   "pygments_lexer": "ipython3",
   "version": "3.12.7"
  }
 },
 "nbformat": 4,
 "nbformat_minor": 5
}
